{
 "cells": [
  {
   "cell_type": "code",
   "execution_count": 4,
   "id": "db312573",
   "metadata": {},
   "outputs": [
    {
     "name": "stdout",
     "output_type": "stream",
     "text": [
      "Enter value in kilometers: 2\n",
      "2.0  kilometers is equal to  1.242742  miles\n"
     ]
    }
   ],
   "source": [
    "#CONVERT KILOMETERS TO MILES\n",
    " \n",
    "\n",
    "kilometers = float(input(\"Enter value in kilometers: \"))\n",
    "conMil = 0.621371\n",
    "miles = kilometers * conMil\n",
    "print(kilometers,\" kilometers is equal to \",miles,\" miles\")"
   ]
  },
  {
   "cell_type": "code",
   "execution_count": 4,
   "id": "780a6eb6",
   "metadata": {},
   "outputs": [
    {
     "name": "stdout",
     "output_type": "stream",
     "text": [
      "Enter value in fahrenheit:54\n",
      "54.0 celsius is equal to 129.2 fahrenheit\n"
     ]
    }
   ],
   "source": [
    "#convert celcius to fahrenheit\n",
    "\n",
    "celsius = float(input(\"Enter value in fahrenheit:\"))\n",
    "fahrenheit = (celsius * 1.8) + 32\n",
    "print(celsius,\"celsius is equal to\",fahrenheit,\"fahrenheit\")"
   ]
  },
  {
   "cell_type": "code",
   "execution_count": 2,
   "id": "97cfe7c7",
   "metadata": {},
   "outputs": [
    {
     "name": "stdout",
     "output_type": "stream",
     "text": [
      "Enter a number: -2\n",
      "Negative number\n"
     ]
    }
   ],
   "source": [
    "# check if a no. is positive,negative or zero\n",
    "num = float(input(\"Enter a number: \"))\n",
    "if num > 0:\n",
    "   print(\"Positive number\")\n",
    "elif num == 0:\n",
    "   print(\"Zero\")\n",
    "else:\n",
    "   print(\"Negative number\")"
   ]
  },
  {
   "cell_type": "code",
   "execution_count": 3,
   "id": "b10e7521",
   "metadata": {},
   "outputs": [
    {
     "name": "stdout",
     "output_type": "stream",
     "text": [
      "enter a number:9\n",
      "odd number\n"
     ]
    }
   ],
   "source": [
    "#check if a no. is odd or even\n",
    "num = float(input(\"enter a number:\"))\n",
    "if num % 2 == 0:\n",
    "    print(\"even number\")\n",
    "else:\n",
    "    print(\"odd number\")"
   ]
  },
  {
   "cell_type": "code",
   "execution_count": 5,
   "id": "7ad16b00",
   "metadata": {},
   "outputs": [
    {
     "name": "stdout",
     "output_type": "stream",
     "text": [
      "Enter the year to be checked :2001\n",
      "2001  year is not a Leap year\n"
     ]
    }
   ],
   "source": [
    "# program to check leap year\n",
    "num=int(input(\"Enter the year to be checked :\"))\n",
    "if (num%4==0):\n",
    "    print(num, \" year is the Leap year\")\n",
    "else:\n",
    "     print(num, \" year is not a Leap year\")"
   ]
  },
  {
   "cell_type": "code",
   "execution_count": 6,
   "id": "d0659628",
   "metadata": {},
   "outputs": [
    {
     "name": "stdout",
     "output_type": "stream",
     "text": [
      "Enter three number to find largest among them\n",
      "4\n",
      "7\n",
      "9\n",
      "9 is the largest number\n"
     ]
    }
   ],
   "source": [
    "#program to find the largest among the three no.\n",
    "\n",
    "print(\"Enter three number to find largest among them\")\n",
    "a=int(input())\n",
    "b=int(input())\n",
    "c=int(input())\n",
    "if (a>b and a>c):\n",
    "    print(a,\"is the largest number\")\n",
    "elif(b>a and b>c):\n",
    "    print(b,\"is the largest number\")\n",
    "else:\n",
    "    print(c,\"is the largest number\")"
   ]
  },
  {
   "cell_type": "code",
   "execution_count": 1,
   "id": "02325df1",
   "metadata": {},
   "outputs": [
    {
     "name": "stdout",
     "output_type": "stream",
     "text": [
      "Enter The Number8\n",
      "8 is not a Prime Number\n"
     ]
    }
   ],
   "source": [
    "#program to check no. if a prime no. or not \n",
    "number = int(input(\"Enter The Number\"))\n",
    "\n",
    "if number > 1:\n",
    "    for i in range(2,int(number/2)+1):\n",
    "        if (number % i == 0):\n",
    "            print(number, \"is not a Prime Number\")\n",
    "            break\n",
    "    else:\n",
    "        print(number,\"is a Prime number\")\n",
    "# If the number is less than 1 it can't be Prime    \n",
    "else:\n",
    "    print(number,\"is not a Prime number\")"
   ]
  }
 ],
 "metadata": {
  "kernelspec": {
   "display_name": "Python 3",
   "language": "python",
   "name": "python3"
  },
  "language_info": {
   "codemirror_mode": {
    "name": "ipython",
    "version": 3
   },
   "file_extension": ".py",
   "mimetype": "text/x-python",
   "name": "python",
   "nbconvert_exporter": "python",
   "pygments_lexer": "ipython3",
   "version": "3.8.8"
  }
 },
 "nbformat": 4,
 "nbformat_minor": 5
}
